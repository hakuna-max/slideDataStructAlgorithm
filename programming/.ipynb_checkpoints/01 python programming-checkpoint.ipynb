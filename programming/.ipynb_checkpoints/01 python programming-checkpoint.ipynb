{
 "cells": [
  {
   "cell_type": "markdown",
   "id": "2dc8f477",
   "metadata": {},
   "source": [
    "# 1.1 Chapter Goals\n",
    "By the end of this chapter, you should be able to answer these questions.\n",
    "\n",
    "- What two parts are needed for the accumulator pattern?\n",
    "- When do you need to use the loop and a half pattern for reading from a file?\n",
    "- What is the purpose of a class definition?\n",
    "- What is an object and how do we create one?\n",
    "- What is a mutator method?\n",
    "- What is an accessor method?\n",
    "- What is a widget and how does one use widgets in GUI programming?"
   ]
  },
  {
   "cell_type": "markdown",
   "id": "e207db89",
   "metadata": {},
   "source": [
    "# 1.2 Creating Objects\n",
    "\n"
   ]
  },
  {
   "cell_type": "markdown",
   "id": "6b506767",
   "metadata": {},
   "source": [
    "- There are two ways to create objects in Python. "
   ]
  },
  {
   "cell_type": "markdown",
   "id": "81c029d7",
   "metadata": {},
   "source": [
    "## 1.2.1 Literal Values"
   ]
  },
  {
   "cell_type": "markdown",
   "id": "8e12bbe6",
   "metadata": {},
   "source": [
    "- In a few cases, you can use a literal value to create an object."
   ]
  },
  {
   "cell_type": "code",
   "execution_count": null,
   "id": "df006b7d",
   "metadata": {},
   "outputs": [],
   "source": [
    "x = 6"
   ]
  },
  {
   "cell_type": "markdown",
   "id": "d189d15c",
   "metadata": {},
   "source": [
    "- This creates an `int` object containing the value 6. \n",
    "\n",
    "- It also points the reference called `x` at this object as pictured in Fig. 1"
   ]
  },
  {
   "cell_type": "markdown",
   "id": "c31b1461",
   "metadata": {},
   "source": [
    "<figure>\n",
    "  <img src=\"images/xref.png\" alt=\"ref\" style=\"width:50%\">\n",
    "  <figcaption>Fig.1 - A Reference and Object</figcaption>\n",
    "</figure> "
   ]
  },
  {
   "cell_type": "markdown",
   "id": "f3ac3e4d",
   "metadata": {},
   "source": [
    "Other literal values may be written in Python as well. Here are some literal values that are possible in Python.\n",
    "\n",
    "- `int` literals: `6`, `3`, `10`, `−2`, etc.\n",
    "- `float` literals: `6.0`, `−3.2`, `4.5E10`\n",
    "- `str` literals: `‘hi there’`, `“how are you”`\n",
    "- `list` literals: `[]`, `[6, ‘hi there’]`\n",
    "- `dict` literals: `{}`, `{‘hi there’:6, ‘how are you’:4}`"
   ]
  },
  {
   "cell_type": "markdown",
   "id": "4db25d6e",
   "metadata": {},
   "source": [
    "## 1.2.2 Non-literal Object Creation"
   ]
  },
  {
   "cell_type": "markdown",
   "id": "59d87f8c",
   "metadata": {},
   "source": [
    "- Most of the time, when an object is created, it is not created from a literal value.\n",
    "- Most of the time we have an object already and want to create another object by using one or more existing objects. \n",
    "- For instance, if we have a string in Python, like `6` and want to create an `int` object from that string, we can do the following."
   ]
  },
  {
   "cell_type": "code",
   "execution_count": null,
   "id": "9af5f933",
   "metadata": {},
   "outputs": [],
   "source": [
    "y = '6'\n",
    "\n",
    "x = int(y)\n",
    "\n",
    "print(x)"
   ]
  },
  {
   "cell_type": "markdown",
   "id": "8496c2f8",
   "metadata": {},
   "source": [
    "- In this short piece of code, `y` is a reference to the `str` object created from the string literal.\n",
    "\n",
    "- In general, when we want to create an object based on other object values we write the following:"
   ]
  },
  {
   "cell_type": "markdown",
   "id": "2a9f4683",
   "metadata": {},
   "source": [
    "`variable = type(other_object_values)`"
   ]
  },
  {
   "cell_type": "markdown",
   "id": "4907e61b",
   "metadata": {},
   "source": [
    "- The `type` is any type or class name in Python, like `int`, `float`, `str` or any other type."
   ]
  },
  {
   "cell_type": "markdown",
   "id": "39bd3ba1",
   "metadata": {},
   "source": [
    "- Here are some examples of creating objects from non-literal values."
   ]
  },
  {
   "cell_type": "code",
   "execution_count": null,
   "id": "4dce8d7a",
   "metadata": {},
   "outputs": [],
   "source": [
    "z = float('6.3')\n",
    "\n",
    "w = str(z)\n",
    "\n",
    "u = list(w) # this results in the list [’6’, ’.’, ’3’]\n",
    "\n",
    "print(z)\n",
    "print(w)\n",
    "print(u)"
   ]
  },
  {
   "cell_type": "markdown",
   "id": "5176c44c",
   "metadata": {},
   "source": [
    "# 1.3 Calling Methods on Objects"
   ]
  },
  {
   "cell_type": "markdown",
   "id": "8a087b6a",
   "metadata": {},
   "source": [
    "There are two kinds of methods in any object-oriented language: _**mutator**_ and _**accessor**_ methods.\n",
    "\n",
    "- Accessor methods access the current state of an object but **don’t change the object**. \n",
    "- Accessor methods return **new object references** when called.\n",
    "- Mutator methods actually **change** the existing object.\n",
    "- Once called, a mutator method can’t be undone."
   ]
  },
  {
   "cell_type": "code",
   "execution_count": null,
   "id": "b09edcb2",
   "metadata": {},
   "outputs": [],
   "source": [
    "# the method upper is called on the object that x refers to. The upper accessor\n",
    "# method returns a new object, a str object, that is an upper-cased version of the\n",
    "# original string.\n",
    "x = ’how are you’\n",
    "y = x.upper()\n",
    "print(y)"
   ]
  },
  {
   "cell_type": "code",
   "execution_count": null,
   "id": "8df5fd31",
   "metadata": {},
   "outputs": [],
   "source": [
    "myList = [1, 2, 3]\n",
    "myList.reverse()\n",
    "print(myList) # This prints [3, 2, 1] to the screen"
   ]
  },
  {
   "cell_type": "markdown",
   "id": "78d9be87",
   "metadata": {},
   "source": [
    "- All classes contain accessor methods. \n",
    "- We use accessor methods to retrieve a value that is stored in an object or to retrieve a value that depends on the value stored in an object.\n",
    "- If a class had no accessor methods we could put values in the object but we could never retrieve them."
   ]
  },
  {
   "cell_type": "markdown",
   "id": "d3625e0d",
   "metadata": {},
   "source": [
    "- Some classes have mutator methods and some don’t. \n",
    "- For instance, the `list` class has mutator methods, including the `reverse` method.\n",
    "\n",
    "- There are some classes that don’t have any mutator methods. \n",
    "- For instance, the `str` class does not have any mutator methods. \n",
    "\n",
    "- When a class does not contain any mutator methods, we say that the class is **immutable**. We can form new values from the data in an immutable class, but once an immutable object is created, it cannot be changed. Other immutable classes include `int` and `float`."
   ]
  },
  {
   "cell_type": "markdown",
   "id": "93a3f6e4",
   "metadata": {},
   "source": [
    "# 1.4 Implementing a Class"
   ]
  },
  {
   "cell_type": "markdown",
   "id": "bb0cb8f2",
   "metadata": {},
   "source": [
    "- Classes can be used in many different ways. \n",
    "- In this module, we emphasize using them in the context of object-oriented programming. \n",
    "- **The key to object-oriented programming is thinking about objects as collections of both data and the methods that operate on that data**."
   ]
  },
  {
   "cell_type": "markdown",
   "id": "bdf212ce",
   "metadata": {},
   "source": [
    "## 1.4.1 Abstract Data Types and Classes"
   ]
  },
  {
   "cell_type": "markdown",
   "id": "7c010640",
   "metadata": {},
   "source": [
    "- An `abstract data type` is a set of objects and the operations on those objects. \n",
    "- These are bound together so that programmers can pass an object from one part of a program to another, and in doing so provide access not only to the data attributes of the object but also to operations that make it easy to manipulate that data."
   ]
  },
  {
   "cell_type": "markdown",
   "id": "9533c230",
   "metadata": {},
   "source": [
    "- The specifications of those operations define an **interface** between the abstract data type and the rest of the program. \n",
    "- The interface defines the behavior of the operations—what they do, but not how they do it. \n",
    "- The interface thus provides an **abstraction barrier** that isolates the rest of the program from the data structures, algorithms, and code involved in providing a realization of the type abstraction."
   ]
  },
  {
   "cell_type": "markdown",
   "id": "ccdb4b6d",
   "metadata": {},
   "source": [
    "- In Python, we implement data abstractions using **classes**. \n",
    "- Each class definition begins with the reserved word `class` followed by the name of the class and some information about how it relates to other classes"
   ]
  },
  {
   "cell_type": "code",
   "execution_count": 6,
   "id": "98c322bd",
   "metadata": {},
   "outputs": [],
   "source": [
    "class Toy(object): # This line indicates that Toy is a subclass of object.\n",
    "    def __init__(self):\n",
    "        self._elems = []\n",
    "        \n",
    "    def add(self, new_elems):\n",
    "        \"\"\"new_elems is a list\"\"\"\n",
    "        self._elems += new_elems    \n",
    "    \n",
    "    def size(self):\n",
    "        return len(self._elems)"
   ]
  },
  {
   "cell_type": "markdown",
   "id": "53ac9b0c",
   "metadata": {},
   "source": [
    "- A class definition creates an object of type type and associates with that class object a set of objects called **attributes**. \n",
    "\n",
    "- In this example, the three attributes associated with the class are `__init__`, `add`, and `size`. Each is of type `function`. Consequently, the following code prints\n",
    "\n",
    "`<class ‘type'>`\n",
    "\n",
    "`<class 'function'>` \n",
    "`<class 'function'>` \n",
    "`<class 'function'>`"
   ]
  },
  {
   "cell_type": "code",
   "execution_count": 11,
   "id": "ebdbaed8",
   "metadata": {},
   "outputs": [
    {
     "name": "stdout",
     "output_type": "stream",
     "text": [
      "<class 'type'>\n",
      "<class 'function'>\n",
      "<class 'function'>\n",
      "<class 'function'>\n"
     ]
    }
   ],
   "source": [
    "print(type(Toy))\n",
    "print(type(Toy.__init__), \n",
    "      type(Toy.add), \n",
    "      type(Toy.size), sep = '\\n')"
   ]
  },
  {
   "cell_type": "code",
   "execution_count": null,
   "id": "54e8db73",
   "metadata": {},
   "outputs": [],
   "source": []
  }
 ],
 "metadata": {
  "kernelspec": {
   "display_name": "Python 3 (ipykernel)",
   "language": "python",
   "name": "python3"
  },
  "language_info": {
   "codemirror_mode": {
    "name": "ipython",
    "version": 3
   },
   "file_extension": ".py",
   "mimetype": "text/x-python",
   "name": "python",
   "nbconvert_exporter": "python",
   "pygments_lexer": "ipython3",
   "version": "3.9.13"
  }
 },
 "nbformat": 4,
 "nbformat_minor": 5
}
